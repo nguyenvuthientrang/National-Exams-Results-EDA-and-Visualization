{
  "nbformat": 4,
  "nbformat_minor": 0,
  "metadata": {
    "colab": {
      "name": "visuals-by-years.ipynb",
      "provenance": [],
      "collapsed_sections": []
    },
    "kernelspec": {
      "name": "python3",
      "display_name": "Python 3"
    },
    "language_info": {
      "name": "python"
    }
  },
  "cells": [
    {
      "cell_type": "code",
      "execution_count": 1,
      "metadata": {
        "id": "ffCqBtQC7SjF"
      },
      "outputs": [],
      "source": [
        "import numpy as np\n",
        "import pandas as pd\n",
        "import matplotlib.pyplot as plt\n",
        "import os\n",
        "import seaborn as sns\n",
        "import plotly.graph_objects as go\n",
        "import plotly.figure_factory as ff\n",
        "import numpy as np\n",
        "from plotly.subplots import make_subplots"
      ]
    },
    {
      "cell_type": "code",
      "source": [
        "from google.colab import drive\n",
        "drive.mount('/content/drive')"
      ],
      "metadata": {
        "colab": {
          "base_uri": "https://localhost:8080/"
        },
        "id": "lNWIQtEQ7eR8",
        "outputId": "01664f94-f6d9-45be-ecc6-f75beae50811"
      },
      "execution_count": 2,
      "outputs": [
        {
          "output_type": "stream",
          "name": "stdout",
          "text": [
            "Mounted at /content/drive\n"
          ]
        }
      ]
    },
    {
      "cell_type": "code",
      "source": [
        "%cd /content/drive/MyDrive/ds"
      ],
      "metadata": {
        "colab": {
          "base_uri": "https://localhost:8080/"
        },
        "id": "JRaLiMWR7f2r",
        "outputId": "35289a07-c04b-4295-9658-f1417a9fa103"
      },
      "execution_count": 3,
      "outputs": [
        {
          "output_type": "stream",
          "name": "stdout",
          "text": [
            "/content/drive/MyDrive/ds\n"
          ]
        }
      ]
    },
    {
      "cell_type": "markdown",
      "source": [
        "# Score Ranges Flow"
      ],
      "metadata": {
        "id": "oQQDCrpW7n7K"
      }
    },
    {
      "cell_type": "code",
      "source": [
        "def add_label(data_path, ranges, colors, subject):\n",
        "  #divide scores into ranges\n",
        "  province_avg = pd.read_csv(data_path)\n",
        "  criteria = [province_avg[subject].between(r[0], r[1]) for r in ranges]\n",
        "  province_avg['Level'] = np.select(criteria, [i for i in range(len(ranges))], 0)\n",
        "  province_avg['Color'] = np.select(criteria, colors, 0)\n",
        "\n",
        "  return province_avg[['CityCode', subject, 'Level', 'Color']]"
      ],
      "metadata": {
        "id": "C8JAD7sq7uYU"
      },
      "execution_count": 4,
      "outputs": []
    },
    {
      "cell_type": "code",
      "source": [
        "def sankey(ranges, nodes, node_colors, path_colors, subject, weight=False):\n",
        "  \"\"\"\n",
        "  ranges: list of scores ranges, must not be overlap and covers of scores from 0-10\n",
        "  nodes: list of ranges name\n",
        "  node_colors: list of colors of nodes\n",
        "  path_color: list of colors of links\n",
        "  subject: subject to display\n",
        "  weight: boolean values, define whether the links are weighted or not\n",
        "  \"\"\"\n",
        "  province_avg2021 = add_label(\"/content/drive/MyDrive/ds/Province_Avg2021.csv\", ranges, path_colors, subject)\n",
        "  province_avg2020 = add_label(\"/content/drive/MyDrive/ds/Province_Avg2020.csv\", ranges, path_colors, subject)\n",
        "  province_avg2019 = add_label(\"/content/drive/MyDrive/ds/Province_Avg2019.csv\", ranges, path_colors, subject)\n",
        "  province_avg2018 = add_label(\"/content/drive/MyDrive/ds/Province_Avg2018.csv\", ranges, path_colors, subject)\n",
        "\n",
        "  if weight == False:\n",
        "    value = [5]*189\n",
        "  else:\n",
        "    value = list(province_avg2019[subject] - province_avg2018[subject]) + list(province_avg2020[subject] - province_avg2019[subject]) + list(province_avg2021[subject] - province_avg2020[subject])\n",
        "  \n",
        "  fig = go.Figure(data=[go.Sankey(\n",
        "    arrangement = \"snap\",\n",
        "    node = dict(\n",
        "      pad = 15,\n",
        "      thickness = 15,\n",
        "      line = dict(color = \"rgba(255, 0, 0, 0)\", width = 0.5),\n",
        "      label = nodes*4,\n",
        "      color = node_colors*4,\n",
        "      # x= [0]*5 + [0.25]*5 + [0.5]*5 + [0.75]*5,\n",
        "      # y= [0, 0.2, 0.4, 0.6, 0.8]*4,\n",
        "    ),\n",
        "    link = dict(\n",
        "      source = list(province_avg2018['Level'])+ list(province_avg2019['Level'] +len(ranges)) + list(province_avg2020['Level'] + 2*len(ranges)), # indices correspond to labels, eg A1, A2, A1, B1, ...\n",
        "      target = list(province_avg2019['Level'] +len(ranges)) + list(province_avg2020['Level'] +2*len(ranges)) +list(province_avg2021['Level'] +3*len(ranges)),\n",
        "      value = value,\n",
        "      color = list(province_avg2018['Color'])+ list(province_avg2019['Color']) + list(province_avg2020['Color']),\n",
        "  ))])\n",
        "  fig.update_layout(title_text=subject, font_size=10)\n",
        "  fig.update_layout(width=1000)\n",
        "  fig.update_layout(height=700)\n",
        "  fig.show()"
      ],
      "metadata": {
        "id": "-V1E3T8t7sxb"
      },
      "execution_count": 7,
      "outputs": []
    },
    {
      "cell_type": "code",
      "source": [
        "sankey(ranges=[(0, 4.5), (4.5, 5.5), (5.5, 6.5), (6.5, 7), (7, 10)],\n",
        "       nodes = [\"0 - 4.5\", \"4.5 - 5.5\", \"5.5 - 6.5\", \"6.5 - 7\",  \"7 - 10\"],\n",
        "       node_colors = [\"rgba(215, 47, 47, 1)\", \"rgba(215, 136, 47, 1)\", \"rgba(215, 209, 47, 1)\", \"rgba(150, 215, 47, 1)\", \"rgba(47, 215, 84, 1)\"],\n",
        "       path_colors = [\"rgba(215, 47, 47, 0.5)\", \"rgba(215, 136, 47, 0.5)\", \"rgba(215, 209, 47, 0.5)\", \"rgba(150, 215, 47, 0.5)\", \"rgba(47, 215, 84, 0.5)\"],\n",
        "       subject=\"Math\",\n",
        "  )"
      ],
      "metadata": {
        "colab": {
          "base_uri": "https://localhost:8080/",
          "height": 717
        },
        "id": "N9CRHdRB8dd9",
        "outputId": "00a24119-bb49-467c-9a14-fde74d5f7002"
      },
      "execution_count": 8,
      "outputs": [
        {
          "output_type": "display_data",
          "data": {
            "text/html": [
              "<html>\n",
              "<head><meta charset=\"utf-8\" /></head>\n",
              "<body>\n",
              "    <div>\n",
              "            <script src=\"https://cdnjs.cloudflare.com/ajax/libs/mathjax/2.7.5/MathJax.js?config=TeX-AMS-MML_SVG\"></script><script type=\"text/javascript\">if (window.MathJax) {MathJax.Hub.Config({SVG: {font: \"STIX-Web\"}});}</script>\n",
              "                <script type=\"text/javascript\">window.PlotlyConfig = {MathJaxConfig: 'local'};</script>\n",
              "        <script src=\"https://cdn.plot.ly/plotly-latest.min.js\"></script>    \n",
              "            <div id=\"4ee9af51-4413-45bb-85e7-b44e2de4a23e\" class=\"plotly-graph-div\" style=\"height:700px; width:1000px;\"></div>\n",
              "            <script type=\"text/javascript\">\n",
              "                \n",
              "                    window.PLOTLYENV=window.PLOTLYENV || {};\n",
              "                    \n",
              "                if (document.getElementById(\"4ee9af51-4413-45bb-85e7-b44e2de4a23e\")) {\n",
              "                    Plotly.newPlot(\n",
              "                        '4ee9af51-4413-45bb-85e7-b44e2de4a23e',\n",
              "                        [{\"arrangement\": \"snap\", \"link\": {\"color\": [\"rgba(215, 136, 47, 0.5)\", \"rgba(215, 136, 47, 0.5)\", \"rgba(215, 136, 47, 0.5)\", \"rgba(215, 47, 47, 0.5)\", \"rgba(215, 136, 47, 0.5)\", \"rgba(215, 136, 47, 0.5)\", \"rgba(215, 136, 47, 0.5)\", \"rgba(215, 136, 47, 0.5)\", \"rgba(215, 136, 47, 0.5)\", \"rgba(215, 136, 47, 0.5)\", \"rgba(215, 136, 47, 0.5)\", \"rgba(215, 47, 47, 0.5)\", \"rgba(215, 47, 47, 0.5)\", \"rgba(215, 47, 47, 0.5)\", \"rgba(215, 47, 47, 0.5)\", \"rgba(215, 136, 47, 0.5)\", \"rgba(215, 47, 47, 0.5)\", \"rgba(215, 47, 47, 0.5)\", \"rgba(215, 47, 47, 0.5)\", \"rgba(215, 136, 47, 0.5)\", \"rgba(215, 136, 47, 0.5)\", \"rgba(215, 47, 47, 0.5)\", \"rgba(215, 47, 47, 0.5)\", \"rgba(215, 47, 47, 0.5)\", \"rgba(215, 47, 47, 0.5)\", \"rgba(215, 47, 47, 0.5)\", \"rgba(215, 136, 47, 0.5)\", \"rgba(215, 136, 47, 0.5)\", \"rgba(215, 47, 47, 0.5)\", \"rgba(215, 136, 47, 0.5)\", \"rgba(215, 136, 47, 0.5)\", \"rgba(215, 136, 47, 0.5)\", \"rgba(215, 136, 47, 0.5)\", \"rgba(215, 136, 47, 0.5)\", \"rgba(215, 136, 47, 0.5)\", \"rgba(215, 136, 47, 0.5)\", \"rgba(215, 136, 47, 0.5)\", \"rgba(215, 136, 47, 0.5)\", \"rgba(215, 136, 47, 0.5)\", \"rgba(215, 136, 47, 0.5)\", \"rgba(215, 136, 47, 0.5)\", \"rgba(215, 136, 47, 0.5)\", \"rgba(215, 136, 47, 0.5)\", \"rgba(215, 136, 47, 0.5)\", \"rgba(215, 136, 47, 0.5)\", \"rgba(215, 136, 47, 0.5)\", \"rgba(215, 136, 47, 0.5)\", \"rgba(215, 136, 47, 0.5)\", \"rgba(215, 136, 47, 0.5)\", \"rgba(215, 136, 47, 0.5)\", \"rgba(215, 136, 47, 0.5)\", \"rgba(215, 136, 47, 0.5)\", \"rgba(215, 136, 47, 0.5)\", \"rgba(215, 136, 47, 0.5)\", \"rgba(215, 136, 47, 0.5)\", \"rgba(215, 136, 47, 0.5)\", \"rgba(215, 136, 47, 0.5)\", \"rgba(215, 136, 47, 0.5)\", \"rgba(215, 136, 47, 0.5)\", \"rgba(215, 136, 47, 0.5)\", \"rgba(215, 136, 47, 0.5)\", \"rgba(215, 136, 47, 0.5)\", \"rgba(215, 136, 47, 0.5)\", \"rgba(215, 209, 47, 0.5)\", \"rgba(215, 209, 47, 0.5)\", \"rgba(215, 209, 47, 0.5)\", \"rgba(215, 136, 47, 0.5)\", \"rgba(215, 209, 47, 0.5)\", \"rgba(215, 209, 47, 0.5)\", \"rgba(215, 209, 47, 0.5)\", \"rgba(215, 209, 47, 0.5)\", \"rgba(215, 209, 47, 0.5)\", \"rgba(150, 215, 47, 0.5)\", \"rgba(215, 209, 47, 0.5)\", \"rgba(215, 47, 47, 0.5)\", \"rgba(215, 47, 47, 0.5)\", \"rgba(215, 47, 47, 0.5)\", \"rgba(215, 47, 47, 0.5)\", \"rgba(215, 136, 47, 0.5)\", \"rgba(215, 136, 47, 0.5)\", \"rgba(215, 136, 47, 0.5)\", \"rgba(215, 47, 47, 0.5)\", \"rgba(215, 136, 47, 0.5)\", \"rgba(215, 209, 47, 0.5)\", \"rgba(215, 136, 47, 0.5)\", \"rgba(215, 136, 47, 0.5)\", \"rgba(215, 47, 47, 0.5)\", \"rgba(215, 47, 47, 0.5)\", \"rgba(215, 136, 47, 0.5)\", \"rgba(215, 136, 47, 0.5)\", \"rgba(215, 209, 47, 0.5)\", \"rgba(215, 136, 47, 0.5)\", \"rgba(215, 209, 47, 0.5)\", \"rgba(215, 209, 47, 0.5)\", \"rgba(215, 209, 47, 0.5)\", \"rgba(215, 209, 47, 0.5)\", \"rgba(215, 209, 47, 0.5)\", \"rgba(215, 209, 47, 0.5)\", \"rgba(215, 209, 47, 0.5)\", \"rgba(215, 209, 47, 0.5)\", \"rgba(215, 136, 47, 0.5)\", \"rgba(215, 209, 47, 0.5)\", \"rgba(215, 209, 47, 0.5)\", \"rgba(215, 136, 47, 0.5)\", \"rgba(215, 136, 47, 0.5)\", \"rgba(215, 136, 47, 0.5)\", \"rgba(215, 209, 47, 0.5)\", \"rgba(215, 209, 47, 0.5)\", \"rgba(215, 209, 47, 0.5)\", \"rgba(215, 209, 47, 0.5)\", \"rgba(215, 209, 47, 0.5)\", \"rgba(215, 209, 47, 0.5)\", \"rgba(215, 209, 47, 0.5)\", \"rgba(215, 209, 47, 0.5)\", \"rgba(215, 209, 47, 0.5)\", \"rgba(215, 209, 47, 0.5)\", \"rgba(215, 136, 47, 0.5)\", \"rgba(215, 209, 47, 0.5)\", \"rgba(215, 209, 47, 0.5)\", \"rgba(215, 209, 47, 0.5)\", \"rgba(215, 136, 47, 0.5)\", \"rgba(215, 209, 47, 0.5)\", \"rgba(215, 136, 47, 0.5)\", \"rgba(215, 136, 47, 0.5)\", \"rgba(215, 209, 47, 0.5)\", \"rgba(215, 136, 47, 0.5)\", \"rgba(47, 215, 84, 0.5)\", \"rgba(150, 215, 47, 0.5)\", \"rgba(47, 215, 84, 0.5)\", \"rgba(215, 209, 47, 0.5)\", \"rgba(150, 215, 47, 0.5)\", \"rgba(47, 215, 84, 0.5)\", \"rgba(150, 215, 47, 0.5)\", \"rgba(47, 215, 84, 0.5)\", \"rgba(47, 215, 84, 0.5)\", \"rgba(47, 215, 84, 0.5)\", \"rgba(47, 215, 84, 0.5)\", \"rgba(215, 136, 47, 0.5)\", \"rgba(215, 136, 47, 0.5)\", \"rgba(215, 136, 47, 0.5)\", \"rgba(215, 209, 47, 0.5)\", \"rgba(215, 209, 47, 0.5)\", \"rgba(215, 209, 47, 0.5)\", \"rgba(215, 209, 47, 0.5)\", \"rgba(215, 136, 47, 0.5)\", \"rgba(150, 215, 47, 0.5)\", \"rgba(150, 215, 47, 0.5)\", \"rgba(215, 209, 47, 0.5)\", \"rgba(215, 209, 47, 0.5)\", \"rgba(215, 136, 47, 0.5)\", \"rgba(215, 136, 47, 0.5)\", \"rgba(215, 209, 47, 0.5)\", \"rgba(215, 209, 47, 0.5)\", \"rgba(150, 215, 47, 0.5)\", \"rgba(215, 209, 47, 0.5)\", \"rgba(150, 215, 47, 0.5)\", \"rgba(150, 215, 47, 0.5)\", \"rgba(47, 215, 84, 0.5)\", \"rgba(215, 209, 47, 0.5)\", \"rgba(150, 215, 47, 0.5)\", \"rgba(150, 215, 47, 0.5)\", \"rgba(150, 215, 47, 0.5)\", \"rgba(150, 215, 47, 0.5)\", \"rgba(215, 209, 47, 0.5)\", \"rgba(150, 215, 47, 0.5)\", \"rgba(150, 215, 47, 0.5)\", \"rgba(215, 209, 47, 0.5)\", \"rgba(215, 209, 47, 0.5)\", \"rgba(215, 209, 47, 0.5)\", \"rgba(150, 215, 47, 0.5)\", \"rgba(150, 215, 47, 0.5)\", \"rgba(150, 215, 47, 0.5)\", \"rgba(47, 215, 84, 0.5)\", \"rgba(150, 215, 47, 0.5)\", \"rgba(47, 215, 84, 0.5)\", \"rgba(47, 215, 84, 0.5)\", \"rgba(150, 215, 47, 0.5)\", \"rgba(47, 215, 84, 0.5)\", \"rgba(150, 215, 47, 0.5)\", \"rgba(215, 209, 47, 0.5)\", \"rgba(150, 215, 47, 0.5)\", \"rgba(150, 215, 47, 0.5)\", \"rgba(150, 215, 47, 0.5)\", \"rgba(215, 209, 47, 0.5)\", \"rgba(150, 215, 47, 0.5)\", \"rgba(215, 209, 47, 0.5)\", \"rgba(215, 209, 47, 0.5)\", \"rgba(150, 215, 47, 0.5)\", \"rgba(215, 209, 47, 0.5)\"], \"source\": [1, 1, 1, 0, 1, 1, 1, 1, 1, 1, 1, 0, 0, 0, 0, 1, 0, 0, 0, 1, 1, 0, 0, 0, 0, 0, 1, 1, 0, 1, 1, 1, 1, 1, 1, 1, 1, 1, 1, 1, 1, 1, 1, 1, 1, 1, 1, 1, 1, 1, 1, 1, 1, 1, 1, 1, 1, 1, 1, 1, 1, 1, 1, 7, 7, 7, 6, 7, 7, 7, 7, 7, 8, 7, 5, 5, 5, 5, 6, 6, 6, 5, 6, 7, 6, 6, 5, 5, 6, 6, 7, 6, 7, 7, 7, 7, 7, 7, 7, 7, 6, 7, 7, 6, 6, 6, 7, 7, 7, 7, 7, 7, 7, 7, 7, 7, 6, 7, 7, 7, 6, 7, 6, 6, 7, 6, 14, 13, 14, 12, 13, 14, 13, 14, 14, 14, 14, 11, 11, 11, 12, 12, 12, 12, 11, 13, 13, 12, 12, 11, 11, 12, 12, 13, 12, 13, 13, 14, 12, 13, 13, 13, 13, 12, 13, 13, 12, 12, 12, 13, 13, 13, 14, 13, 14, 14, 13, 14, 13, 12, 13, 13, 13, 12, 13, 12, 12, 13, 12], \"target\": [7, 7, 7, 6, 7, 7, 7, 7, 7, 8, 7, 5, 5, 5, 5, 6, 6, 6, 5, 6, 7, 6, 6, 5, 5, 6, 6, 7, 6, 7, 7, 7, 7, 7, 7, 7, 7, 6, 7, 7, 6, 6, 6, 7, 7, 7, 7, 7, 7, 7, 7, 7, 7, 6, 7, 7, 7, 6, 7, 6, 6, 7, 6, 14, 13, 14, 12, 13, 14, 13, 14, 14, 14, 14, 11, 11, 11, 12, 12, 12, 12, 11, 13, 13, 12, 12, 11, 11, 12, 12, 13, 12, 13, 13, 14, 12, 13, 13, 13, 13, 12, 13, 13, 12, 12, 12, 13, 13, 13, 14, 13, 14, 14, 13, 14, 13, 12, 13, 13, 13, 12, 13, 12, 12, 13, 12, 18, 18, 18, 17, 18, 18, 18, 19, 19, 19, 19, 16, 16, 17, 17, 17, 17, 17, 17, 18, 18, 17, 17, 16, 16, 17, 17, 18, 17, 17, 18, 18, 18, 18, 18, 17, 18, 17, 18, 17, 17, 17, 17, 18, 18, 18, 19, 18, 18, 19, 18, 18, 18, 17, 18, 17, 18, 17, 18, 17, 17, 18, 17], \"value\": [5, 5, 5, 5, 5, 5, 5, 5, 5, 5, 5, 5, 5, 5, 5, 5, 5, 5, 5, 5, 5, 5, 5, 5, 5, 5, 5, 5, 5, 5, 5, 5, 5, 5, 5, 5, 5, 5, 5, 5, 5, 5, 5, 5, 5, 5, 5, 5, 5, 5, 5, 5, 5, 5, 5, 5, 5, 5, 5, 5, 5, 5, 5, 5, 5, 5, 5, 5, 5, 5, 5, 5, 5, 5, 5, 5, 5, 5, 5, 5, 5, 5, 5, 5, 5, 5, 5, 5, 5, 5, 5, 5, 5, 5, 5, 5, 5, 5, 5, 5, 5, 5, 5, 5, 5, 5, 5, 5, 5, 5, 5, 5, 5, 5, 5, 5, 5, 5, 5, 5, 5, 5, 5, 5, 5, 5, 5, 5, 5, 5, 5, 5, 5, 5, 5, 5, 5, 5, 5, 5, 5, 5, 5, 5, 5, 5, 5, 5, 5, 5, 5, 5, 5, 5, 5, 5, 5, 5, 5, 5, 5, 5, 5, 5, 5, 5, 5, 5, 5, 5, 5, 5, 5, 5, 5, 5, 5, 5, 5, 5, 5, 5, 5, 5, 5, 5, 5, 5, 5]}, \"node\": {\"color\": [\"rgba(215, 47, 47, 1)\", \"rgba(215, 136, 47, 1)\", \"rgba(215, 209, 47, 1)\", \"rgba(150, 215, 47, 1)\", \"rgba(47, 215, 84, 1)\", \"rgba(215, 47, 47, 1)\", \"rgba(215, 136, 47, 1)\", \"rgba(215, 209, 47, 1)\", \"rgba(150, 215, 47, 1)\", \"rgba(47, 215, 84, 1)\", \"rgba(215, 47, 47, 1)\", \"rgba(215, 136, 47, 1)\", \"rgba(215, 209, 47, 1)\", \"rgba(150, 215, 47, 1)\", \"rgba(47, 215, 84, 1)\", \"rgba(215, 47, 47, 1)\", \"rgba(215, 136, 47, 1)\", \"rgba(215, 209, 47, 1)\", \"rgba(150, 215, 47, 1)\", \"rgba(47, 215, 84, 1)\"], \"label\": [\"0 - 4.5\", \"4.5 - 5.5\", \"5.5 - 6.5\", \"6.5 - 7\", \"7 - 10\", \"0 - 4.5\", \"4.5 - 5.5\", \"5.5 - 6.5\", \"6.5 - 7\", \"7 - 10\", \"0 - 4.5\", \"4.5 - 5.5\", \"5.5 - 6.5\", \"6.5 - 7\", \"7 - 10\", \"0 - 4.5\", \"4.5 - 5.5\", \"5.5 - 6.5\", \"6.5 - 7\", \"7 - 10\"], \"line\": {\"color\": \"rgba(255, 0, 0, 0)\", \"width\": 0.5}, \"pad\": 15, \"thickness\": 15}, \"type\": \"sankey\"}],\n",
              "                        {\"font\": {\"size\": 10}, \"height\": 700, \"template\": {\"data\": {\"bar\": [{\"error_x\": {\"color\": \"#2a3f5f\"}, \"error_y\": {\"color\": \"#2a3f5f\"}, \"marker\": {\"line\": {\"color\": \"#E5ECF6\", \"width\": 0.5}}, \"type\": \"bar\"}], \"barpolar\": [{\"marker\": {\"line\": {\"color\": \"#E5ECF6\", \"width\": 0.5}}, \"type\": \"barpolar\"}], \"carpet\": [{\"aaxis\": {\"endlinecolor\": \"#2a3f5f\", \"gridcolor\": \"white\", \"linecolor\": \"white\", \"minorgridcolor\": \"white\", \"startlinecolor\": \"#2a3f5f\"}, \"baxis\": {\"endlinecolor\": \"#2a3f5f\", \"gridcolor\": \"white\", \"linecolor\": \"white\", \"minorgridcolor\": \"white\", \"startlinecolor\": \"#2a3f5f\"}, \"type\": \"carpet\"}], \"choropleth\": [{\"colorbar\": {\"outlinewidth\": 0, \"ticks\": \"\"}, \"type\": \"choropleth\"}], \"contour\": [{\"colorbar\": {\"outlinewidth\": 0, \"ticks\": \"\"}, \"colorscale\": [[0.0, \"#0d0887\"], [0.1111111111111111, \"#46039f\"], [0.2222222222222222, \"#7201a8\"], [0.3333333333333333, \"#9c179e\"], [0.4444444444444444, \"#bd3786\"], [0.5555555555555556, \"#d8576b\"], [0.6666666666666666, \"#ed7953\"], [0.7777777777777778, \"#fb9f3a\"], [0.8888888888888888, \"#fdca26\"], [1.0, \"#f0f921\"]], \"type\": \"contour\"}], \"contourcarpet\": [{\"colorbar\": {\"outlinewidth\": 0, \"ticks\": \"\"}, \"type\": \"contourcarpet\"}], \"heatmap\": [{\"colorbar\": {\"outlinewidth\": 0, \"ticks\": \"\"}, \"colorscale\": [[0.0, \"#0d0887\"], [0.1111111111111111, \"#46039f\"], [0.2222222222222222, \"#7201a8\"], [0.3333333333333333, \"#9c179e\"], [0.4444444444444444, \"#bd3786\"], [0.5555555555555556, \"#d8576b\"], [0.6666666666666666, \"#ed7953\"], [0.7777777777777778, \"#fb9f3a\"], [0.8888888888888888, \"#fdca26\"], [1.0, \"#f0f921\"]], \"type\": \"heatmap\"}], \"heatmapgl\": [{\"colorbar\": {\"outlinewidth\": 0, \"ticks\": \"\"}, \"colorscale\": [[0.0, \"#0d0887\"], [0.1111111111111111, \"#46039f\"], [0.2222222222222222, \"#7201a8\"], [0.3333333333333333, \"#9c179e\"], [0.4444444444444444, \"#bd3786\"], [0.5555555555555556, \"#d8576b\"], [0.6666666666666666, \"#ed7953\"], [0.7777777777777778, \"#fb9f3a\"], [0.8888888888888888, \"#fdca26\"], [1.0, \"#f0f921\"]], \"type\": \"heatmapgl\"}], \"histogram\": [{\"marker\": {\"colorbar\": {\"outlinewidth\": 0, \"ticks\": \"\"}}, \"type\": \"histogram\"}], \"histogram2d\": [{\"colorbar\": {\"outlinewidth\": 0, \"ticks\": \"\"}, \"colorscale\": [[0.0, \"#0d0887\"], [0.1111111111111111, \"#46039f\"], [0.2222222222222222, \"#7201a8\"], [0.3333333333333333, \"#9c179e\"], [0.4444444444444444, \"#bd3786\"], [0.5555555555555556, \"#d8576b\"], [0.6666666666666666, \"#ed7953\"], [0.7777777777777778, \"#fb9f3a\"], [0.8888888888888888, \"#fdca26\"], [1.0, \"#f0f921\"]], \"type\": \"histogram2d\"}], \"histogram2dcontour\": [{\"colorbar\": {\"outlinewidth\": 0, \"ticks\": \"\"}, \"colorscale\": [[0.0, \"#0d0887\"], [0.1111111111111111, \"#46039f\"], [0.2222222222222222, \"#7201a8\"], [0.3333333333333333, \"#9c179e\"], [0.4444444444444444, \"#bd3786\"], [0.5555555555555556, \"#d8576b\"], [0.6666666666666666, \"#ed7953\"], [0.7777777777777778, \"#fb9f3a\"], [0.8888888888888888, \"#fdca26\"], [1.0, \"#f0f921\"]], \"type\": \"histogram2dcontour\"}], \"mesh3d\": [{\"colorbar\": {\"outlinewidth\": 0, \"ticks\": \"\"}, \"type\": \"mesh3d\"}], \"parcoords\": [{\"line\": {\"colorbar\": {\"outlinewidth\": 0, \"ticks\": \"\"}}, \"type\": \"parcoords\"}], \"pie\": [{\"automargin\": true, \"type\": \"pie\"}], \"scatter\": [{\"marker\": {\"colorbar\": {\"outlinewidth\": 0, \"ticks\": \"\"}}, \"type\": \"scatter\"}], \"scatter3d\": [{\"line\": {\"colorbar\": {\"outlinewidth\": 0, \"ticks\": \"\"}}, \"marker\": {\"colorbar\": {\"outlinewidth\": 0, \"ticks\": \"\"}}, \"type\": \"scatter3d\"}], \"scattercarpet\": [{\"marker\": {\"colorbar\": {\"outlinewidth\": 0, \"ticks\": \"\"}}, \"type\": \"scattercarpet\"}], \"scattergeo\": [{\"marker\": {\"colorbar\": {\"outlinewidth\": 0, \"ticks\": \"\"}}, \"type\": \"scattergeo\"}], \"scattergl\": [{\"marker\": {\"colorbar\": {\"outlinewidth\": 0, \"ticks\": \"\"}}, \"type\": \"scattergl\"}], \"scattermapbox\": [{\"marker\": {\"colorbar\": {\"outlinewidth\": 0, \"ticks\": \"\"}}, \"type\": \"scattermapbox\"}], \"scatterpolar\": [{\"marker\": {\"colorbar\": {\"outlinewidth\": 0, \"ticks\": \"\"}}, \"type\": \"scatterpolar\"}], \"scatterpolargl\": [{\"marker\": {\"colorbar\": {\"outlinewidth\": 0, \"ticks\": \"\"}}, \"type\": \"scatterpolargl\"}], \"scatterternary\": [{\"marker\": {\"colorbar\": {\"outlinewidth\": 0, \"ticks\": \"\"}}, \"type\": \"scatterternary\"}], \"surface\": [{\"colorbar\": {\"outlinewidth\": 0, \"ticks\": \"\"}, \"colorscale\": [[0.0, \"#0d0887\"], [0.1111111111111111, \"#46039f\"], [0.2222222222222222, \"#7201a8\"], [0.3333333333333333, \"#9c179e\"], [0.4444444444444444, \"#bd3786\"], [0.5555555555555556, \"#d8576b\"], [0.6666666666666666, \"#ed7953\"], [0.7777777777777778, \"#fb9f3a\"], [0.8888888888888888, \"#fdca26\"], [1.0, \"#f0f921\"]], \"type\": \"surface\"}], \"table\": [{\"cells\": {\"fill\": {\"color\": \"#EBF0F8\"}, \"line\": {\"color\": \"white\"}}, \"header\": {\"fill\": {\"color\": \"#C8D4E3\"}, \"line\": {\"color\": \"white\"}}, \"type\": \"table\"}]}, \"layout\": {\"annotationdefaults\": {\"arrowcolor\": \"#2a3f5f\", \"arrowhead\": 0, \"arrowwidth\": 1}, \"coloraxis\": {\"colorbar\": {\"outlinewidth\": 0, \"ticks\": \"\"}}, \"colorscale\": {\"diverging\": [[0, \"#8e0152\"], [0.1, \"#c51b7d\"], [0.2, \"#de77ae\"], [0.3, \"#f1b6da\"], [0.4, \"#fde0ef\"], [0.5, \"#f7f7f7\"], [0.6, \"#e6f5d0\"], [0.7, \"#b8e186\"], [0.8, \"#7fbc41\"], [0.9, \"#4d9221\"], [1, \"#276419\"]], \"sequential\": [[0.0, \"#0d0887\"], [0.1111111111111111, \"#46039f\"], [0.2222222222222222, \"#7201a8\"], [0.3333333333333333, \"#9c179e\"], [0.4444444444444444, \"#bd3786\"], [0.5555555555555556, \"#d8576b\"], [0.6666666666666666, \"#ed7953\"], [0.7777777777777778, \"#fb9f3a\"], [0.8888888888888888, \"#fdca26\"], [1.0, \"#f0f921\"]], \"sequentialminus\": [[0.0, \"#0d0887\"], [0.1111111111111111, \"#46039f\"], [0.2222222222222222, \"#7201a8\"], [0.3333333333333333, \"#9c179e\"], [0.4444444444444444, \"#bd3786\"], [0.5555555555555556, \"#d8576b\"], [0.6666666666666666, \"#ed7953\"], [0.7777777777777778, \"#fb9f3a\"], [0.8888888888888888, \"#fdca26\"], [1.0, \"#f0f921\"]]}, \"colorway\": [\"#636efa\", \"#EF553B\", \"#00cc96\", \"#ab63fa\", \"#FFA15A\", \"#19d3f3\", \"#FF6692\", \"#B6E880\", \"#FF97FF\", \"#FECB52\"], \"font\": {\"color\": \"#2a3f5f\"}, \"geo\": {\"bgcolor\": \"white\", \"lakecolor\": \"white\", \"landcolor\": \"#E5ECF6\", \"showlakes\": true, \"showland\": true, \"subunitcolor\": \"white\"}, \"hoverlabel\": {\"align\": \"left\"}, \"hovermode\": \"closest\", \"mapbox\": {\"style\": \"light\"}, \"paper_bgcolor\": \"white\", \"plot_bgcolor\": \"#E5ECF6\", \"polar\": {\"angularaxis\": {\"gridcolor\": \"white\", \"linecolor\": \"white\", \"ticks\": \"\"}, \"bgcolor\": \"#E5ECF6\", \"radialaxis\": {\"gridcolor\": \"white\", \"linecolor\": \"white\", \"ticks\": \"\"}}, \"scene\": {\"xaxis\": {\"backgroundcolor\": \"#E5ECF6\", \"gridcolor\": \"white\", \"gridwidth\": 2, \"linecolor\": \"white\", \"showbackground\": true, \"ticks\": \"\", \"zerolinecolor\": \"white\"}, \"yaxis\": {\"backgroundcolor\": \"#E5ECF6\", \"gridcolor\": \"white\", \"gridwidth\": 2, \"linecolor\": \"white\", \"showbackground\": true, \"ticks\": \"\", \"zerolinecolor\": \"white\"}, \"zaxis\": {\"backgroundcolor\": \"#E5ECF6\", \"gridcolor\": \"white\", \"gridwidth\": 2, \"linecolor\": \"white\", \"showbackground\": true, \"ticks\": \"\", \"zerolinecolor\": \"white\"}}, \"shapedefaults\": {\"line\": {\"color\": \"#2a3f5f\"}}, \"ternary\": {\"aaxis\": {\"gridcolor\": \"white\", \"linecolor\": \"white\", \"ticks\": \"\"}, \"baxis\": {\"gridcolor\": \"white\", \"linecolor\": \"white\", \"ticks\": \"\"}, \"bgcolor\": \"#E5ECF6\", \"caxis\": {\"gridcolor\": \"white\", \"linecolor\": \"white\", \"ticks\": \"\"}}, \"title\": {\"x\": 0.05}, \"xaxis\": {\"automargin\": true, \"gridcolor\": \"white\", \"linecolor\": \"white\", \"ticks\": \"\", \"title\": {\"standoff\": 15}, \"zerolinecolor\": \"white\", \"zerolinewidth\": 2}, \"yaxis\": {\"automargin\": true, \"gridcolor\": \"white\", \"linecolor\": \"white\", \"ticks\": \"\", \"title\": {\"standoff\": 15}, \"zerolinecolor\": \"white\", \"zerolinewidth\": 2}}}, \"title\": {\"text\": \"Math\"}, \"width\": 1000},\n",
              "                        {\"responsive\": true}\n",
              "                    ).then(function(){\n",
              "                            \n",
              "var gd = document.getElementById('4ee9af51-4413-45bb-85e7-b44e2de4a23e');\n",
              "var x = new MutationObserver(function (mutations, observer) {{\n",
              "        var display = window.getComputedStyle(gd).display;\n",
              "        if (!display || display === 'none') {{\n",
              "            console.log([gd, 'removed!']);\n",
              "            Plotly.purge(gd);\n",
              "            observer.disconnect();\n",
              "        }}\n",
              "}});\n",
              "\n",
              "// Listen for the removal of the full notebook cells\n",
              "var notebookContainer = gd.closest('#notebook-container');\n",
              "if (notebookContainer) {{\n",
              "    x.observe(notebookContainer, {childList: true});\n",
              "}}\n",
              "\n",
              "// Listen for the clearing of the current output cell\n",
              "var outputEl = gd.closest('.output');\n",
              "if (outputEl) {{\n",
              "    x.observe(outputEl, {childList: true});\n",
              "}}\n",
              "\n",
              "                        })\n",
              "                };\n",
              "                \n",
              "            </script>\n",
              "        </div>\n",
              "</body>\n",
              "</html>"
            ]
          },
          "metadata": {}
        }
      ]
    }
  ]
}