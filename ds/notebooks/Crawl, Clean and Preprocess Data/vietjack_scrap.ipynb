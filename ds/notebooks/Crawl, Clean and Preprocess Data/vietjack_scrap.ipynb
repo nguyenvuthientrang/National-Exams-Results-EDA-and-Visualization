{
  "nbformat": 4,
  "nbformat_minor": 0,
  "metadata": {
    "colab": {
      "name": "vietjack_scrap.ipynb",
      "provenance": [],
      "collapsed_sections": []
    },
    "kernelspec": {
      "name": "python3",
      "display_name": "Python 3"
    },
    "language_info": {
      "name": "python"
    }
  },
  "cells": [
    {
      "cell_type": "markdown",
      "source": [
        "Get the province code"
      ],
      "metadata": {
        "id": "doRXOlYNif3Q"
      }
    },
    {
      "cell_type": "code",
      "metadata": {
        "id": "hQydI9271kZ2"
      },
      "source": [
        "from bs4 import BeautifulSoup\n",
        "import requests\n",
        "import pandas as pd"
      ],
      "execution_count": 1,
      "outputs": []
    },
    {
      "cell_type": "code",
      "metadata": {
        "id": "2kNTo4XY1-tw"
      },
      "source": [
        "url = 'https://vietjack.com/thong-tin-tuyen-sinh/ma-truong-thpt.jsp'"
      ],
      "execution_count": 2,
      "outputs": []
    },
    {
      "cell_type": "code",
      "metadata": {
        "id": "Y44SpTU93DZh"
      },
      "source": [
        "response = requests.get(url)\n",
        "soup = BeautifulSoup(response.text, 'html.parser')"
      ],
      "execution_count": 3,
      "outputs": []
    },
    {
      "cell_type": "code",
      "metadata": {
        "id": "67Kn92DF3R1e"
      },
      "source": [
        "tables = soup.find_all('table', {'class':'table table-bordered'})\n",
        "table = tables[1]"
      ],
      "execution_count": 4,
      "outputs": []
    },
    {
      "cell_type": "code",
      "metadata": {
        "colab": {
          "base_uri": "https://localhost:8080/"
        },
        "id": "_gUiWbDIRQrO",
        "outputId": "0d730a4b-6c8a-42f7-dffb-b8307b4ee190"
      },
      "source": [
        "table"
      ],
      "execution_count": 5,
      "outputs": [
        {
          "output_type": "execute_result",
          "data": {
            "text/plain": [
              "<table class=\"table table-bordered\">\n",
              "<tr><th style=\"text-align:center;\">Tên tỉnh</th><th style=\"text-align:center;\">Mã tỉnh</th></tr>\n",
              "<tr> <td><a href=\"../thong-tin-tuyen-sinh/ma-tp-ha-noi.jsp\"><b style=\"color:blue;\">Mã Tp. Hà Nội</b></a></td><td>01</td></tr>\n",
              "<tr> <td><a href=\"../thong-tin-tuyen-sinh/ma-tp-hai-phong.jsp\"><b style=\"color:blue;\">Mã Tp. Hải Phòng</b></a></td><td>03</td></tr>\n",
              "<tr> <td><a href=\"../thong-tin-tuyen-sinh/ma-tinh-ha-giang.jsp\"><b style=\"color:blue;\">Mã tỉnh Hà Giang</b></a></td><td>05</td></tr>\n",
              "<tr> <td><a href=\"../thong-tin-tuyen-sinh/ma-tinh-cao-bang.jsp\"><b style=\"color:blue;\">Mã tỉnh Cao Bằng</b></a></td><td>06</td></tr>\n",
              "<tr> <td><a href=\"../thong-tin-tuyen-sinh/ma-tinh-lai-chau.jsp\"><b style=\"color:blue;\">Mã tỉnh Lai Châu</b></a></td><td>07</td></tr>\n",
              "<tr> <td><a href=\"../thong-tin-tuyen-sinh/ma-tinh-lao-cai.jsp\"><b style=\"color:blue;\">Mã tỉnh Lào Cai</b></a></td><td>08</td></tr>\n",
              "<tr> <td><a href=\"../thong-tin-tuyen-sinh/ma-tinh-tuyen-quang.jsp\"><b style=\"color:blue;\">Mã tỉnh Tuyên Quang</b></a></td><td>09</td></tr>\n",
              "<tr> <td><a href=\"../thong-tin-tuyen-sinh/ma-tinh-lang-son.jsp\"><b style=\"color:blue;\">Mã tỉnh Lạng Sơn</b></a></td><td>10</td></tr>\n",
              "<tr> <td><a href=\"../thong-tin-tuyen-sinh/ma-tinh-bac-kan.jsp\"><b style=\"color:blue;\">Mã tỉnh Bắc Kạn</b></a></td><td>11</td></tr>\n",
              "<tr> <td><a href=\"../thong-tin-tuyen-sinh/ma-tinh-thai-nguyen.jsp\"><b style=\"color:blue;\">Mã tỉnh Thái Nguyên</b></a></td><td>12</td></tr>\n",
              "<tr> <td><a href=\"../thong-tin-tuyen-sinh/ma-tinh-yen-bai.jsp\"><b style=\"color:blue;\">Mã tỉnh Yên Bái</b></a></td><td>13</td></tr>\n",
              "<tr> <td><a href=\"../thong-tin-tuyen-sinh/ma-tinh-son-la.jsp\"><b style=\"color:blue;\">Mã tỉnh Sơn La</b></a></td><td>14</td></tr>\n",
              "<tr> <td><a href=\"../thong-tin-tuyen-sinh/ma-tinh-phu-tho.jsp\"><b style=\"color:blue;\">Mã tỉnh Phú Thọ</b></a></td><td>15</td></tr>\n",
              "<tr> <td><a href=\"../thong-tin-tuyen-sinh/ma-tinh-vinh-phuc.jsp\"><b style=\"color:blue;\">Mã tỉnh Vĩnh Phúc</b></a></td><td>16</td></tr>\n",
              "<tr> <td><a href=\"../thong-tin-tuyen-sinh/ma-tinh-quang-ninh.jsp\"><b style=\"color:blue;\">Mã tỉnh Quảng Ninh</b></a></td><td>17</td></tr>\n",
              "<tr> <td><a href=\"../thong-tin-tuyen-sinh/ma-tinh-bac-giang.jsp\"><b style=\"color:blue;\">Mã tỉnh Bắc Giang</b></a></td><td>18</td></tr>\n",
              "<tr> <td><a href=\"../thong-tin-tuyen-sinh/ma-tinh-bac-ninh.jsp\"><b style=\"color:blue;\">Mã tỉnh Bắc Ninh</b></a></td><td>19</td></tr>\n",
              "<tr> <td><a href=\"../thong-tin-tuyen-sinh/ma-tinh-hai-duong.jsp\"><b style=\"color:blue;\">Mã tỉnh Hải Dương</b></a></td><td>21</td></tr>\n",
              "<tr> <td><a href=\"../thong-tin-tuyen-sinh/ma-tinh-hung-yen.jsp\"><b style=\"color:blue;\">Mã tỉnh Hưng Yên</b></a></td><td>22</td></tr>\n",
              "<tr> <td><a href=\"../thong-tin-tuyen-sinh/ma-tinh-hoa-binh.jsp\"><b style=\"color:blue;\">Mã tỉnh Hòa Bình</b></a></td><td>23</td></tr>\n",
              "<tr> <td><a href=\"../thong-tin-tuyen-sinh/ma-tinh-ha-nam.jsp\"><b style=\"color:blue;\">Mã tỉnh Hà Nam</b></a></td><td>24</td></tr>\n",
              "<tr> <td><a href=\"../thong-tin-tuyen-sinh/ma-tinh-nam-dinh.jsp\"><b style=\"color:blue;\">Mã tỉnh Nam Định</b></a></td><td>25</td></tr>\n",
              "<tr> <td><a href=\"../thong-tin-tuyen-sinh/ma-tinh-thai-binh.jsp\"><b style=\"color:blue;\">Mã tỉnh Thái Bình</b></a></td><td>26</td></tr>\n",
              "<tr> <td><a href=\"../thong-tin-tuyen-sinh/ma-tinh-ninh-binh.jsp\"><b style=\"color:blue;\">Mã tỉnh Ninh Bình</b></a></td><td>27</td></tr>\n",
              "<tr> <td><a href=\"../thong-tin-tuyen-sinh/ma-tinh-dien-bien.jsp\"><b style=\"color:blue;\">Mã tỉnh Điện Biên</b></a></td><td>62</td></tr>\n",
              "</table>"
            ]
          },
          "metadata": {},
          "execution_count": 5
        }
      ]
    },
    {
      "cell_type": "code",
      "metadata": {
        "id": "4HnquHZr3q_C"
      },
      "source": [
        "rows = table.find_all('tr')"
      ],
      "execution_count": 6,
      "outputs": []
    },
    {
      "cell_type": "code",
      "metadata": {
        "colab": {
          "base_uri": "https://localhost:8080/"
        },
        "id": "h99wl1cZPjIW",
        "outputId": "2b7e2bdd-7359-4ea4-9964-5c1f90690aaa"
      },
      "source": [
        "rows"
      ],
      "execution_count": 7,
      "outputs": [
        {
          "output_type": "execute_result",
          "data": {
            "text/plain": [
              "[<tr><th style=\"text-align:center;\">Tên tỉnh</th><th style=\"text-align:center;\">Mã tỉnh</th></tr>,\n",
              " <tr> <td><a href=\"../thong-tin-tuyen-sinh/ma-tp-ha-noi.jsp\"><b style=\"color:blue;\">Mã Tp. Hà Nội</b></a></td><td>01</td></tr>,\n",
              " <tr> <td><a href=\"../thong-tin-tuyen-sinh/ma-tp-hai-phong.jsp\"><b style=\"color:blue;\">Mã Tp. Hải Phòng</b></a></td><td>03</td></tr>,\n",
              " <tr> <td><a href=\"../thong-tin-tuyen-sinh/ma-tinh-ha-giang.jsp\"><b style=\"color:blue;\">Mã tỉnh Hà Giang</b></a></td><td>05</td></tr>,\n",
              " <tr> <td><a href=\"../thong-tin-tuyen-sinh/ma-tinh-cao-bang.jsp\"><b style=\"color:blue;\">Mã tỉnh Cao Bằng</b></a></td><td>06</td></tr>,\n",
              " <tr> <td><a href=\"../thong-tin-tuyen-sinh/ma-tinh-lai-chau.jsp\"><b style=\"color:blue;\">Mã tỉnh Lai Châu</b></a></td><td>07</td></tr>,\n",
              " <tr> <td><a href=\"../thong-tin-tuyen-sinh/ma-tinh-lao-cai.jsp\"><b style=\"color:blue;\">Mã tỉnh Lào Cai</b></a></td><td>08</td></tr>,\n",
              " <tr> <td><a href=\"../thong-tin-tuyen-sinh/ma-tinh-tuyen-quang.jsp\"><b style=\"color:blue;\">Mã tỉnh Tuyên Quang</b></a></td><td>09</td></tr>,\n",
              " <tr> <td><a href=\"../thong-tin-tuyen-sinh/ma-tinh-lang-son.jsp\"><b style=\"color:blue;\">Mã tỉnh Lạng Sơn</b></a></td><td>10</td></tr>,\n",
              " <tr> <td><a href=\"../thong-tin-tuyen-sinh/ma-tinh-bac-kan.jsp\"><b style=\"color:blue;\">Mã tỉnh Bắc Kạn</b></a></td><td>11</td></tr>,\n",
              " <tr> <td><a href=\"../thong-tin-tuyen-sinh/ma-tinh-thai-nguyen.jsp\"><b style=\"color:blue;\">Mã tỉnh Thái Nguyên</b></a></td><td>12</td></tr>,\n",
              " <tr> <td><a href=\"../thong-tin-tuyen-sinh/ma-tinh-yen-bai.jsp\"><b style=\"color:blue;\">Mã tỉnh Yên Bái</b></a></td><td>13</td></tr>,\n",
              " <tr> <td><a href=\"../thong-tin-tuyen-sinh/ma-tinh-son-la.jsp\"><b style=\"color:blue;\">Mã tỉnh Sơn La</b></a></td><td>14</td></tr>,\n",
              " <tr> <td><a href=\"../thong-tin-tuyen-sinh/ma-tinh-phu-tho.jsp\"><b style=\"color:blue;\">Mã tỉnh Phú Thọ</b></a></td><td>15</td></tr>,\n",
              " <tr> <td><a href=\"../thong-tin-tuyen-sinh/ma-tinh-vinh-phuc.jsp\"><b style=\"color:blue;\">Mã tỉnh Vĩnh Phúc</b></a></td><td>16</td></tr>,\n",
              " <tr> <td><a href=\"../thong-tin-tuyen-sinh/ma-tinh-quang-ninh.jsp\"><b style=\"color:blue;\">Mã tỉnh Quảng Ninh</b></a></td><td>17</td></tr>,\n",
              " <tr> <td><a href=\"../thong-tin-tuyen-sinh/ma-tinh-bac-giang.jsp\"><b style=\"color:blue;\">Mã tỉnh Bắc Giang</b></a></td><td>18</td></tr>,\n",
              " <tr> <td><a href=\"../thong-tin-tuyen-sinh/ma-tinh-bac-ninh.jsp\"><b style=\"color:blue;\">Mã tỉnh Bắc Ninh</b></a></td><td>19</td></tr>,\n",
              " <tr> <td><a href=\"../thong-tin-tuyen-sinh/ma-tinh-hai-duong.jsp\"><b style=\"color:blue;\">Mã tỉnh Hải Dương</b></a></td><td>21</td></tr>,\n",
              " <tr> <td><a href=\"../thong-tin-tuyen-sinh/ma-tinh-hung-yen.jsp\"><b style=\"color:blue;\">Mã tỉnh Hưng Yên</b></a></td><td>22</td></tr>,\n",
              " <tr> <td><a href=\"../thong-tin-tuyen-sinh/ma-tinh-hoa-binh.jsp\"><b style=\"color:blue;\">Mã tỉnh Hòa Bình</b></a></td><td>23</td></tr>,\n",
              " <tr> <td><a href=\"../thong-tin-tuyen-sinh/ma-tinh-ha-nam.jsp\"><b style=\"color:blue;\">Mã tỉnh Hà Nam</b></a></td><td>24</td></tr>,\n",
              " <tr> <td><a href=\"../thong-tin-tuyen-sinh/ma-tinh-nam-dinh.jsp\"><b style=\"color:blue;\">Mã tỉnh Nam Định</b></a></td><td>25</td></tr>,\n",
              " <tr> <td><a href=\"../thong-tin-tuyen-sinh/ma-tinh-thai-binh.jsp\"><b style=\"color:blue;\">Mã tỉnh Thái Bình</b></a></td><td>26</td></tr>,\n",
              " <tr> <td><a href=\"../thong-tin-tuyen-sinh/ma-tinh-ninh-binh.jsp\"><b style=\"color:blue;\">Mã tỉnh Ninh Bình</b></a></td><td>27</td></tr>,\n",
              " <tr> <td><a href=\"../thong-tin-tuyen-sinh/ma-tinh-dien-bien.jsp\"><b style=\"color:blue;\">Mã tỉnh Điện Biên</b></a></td><td>62</td></tr>]"
            ]
          },
          "metadata": {},
          "execution_count": 7
        }
      ]
    },
    {
      "cell_type": "code",
      "metadata": {
        "colab": {
          "base_uri": "https://localhost:8080/"
        },
        "id": "DI71RyUg7-IX",
        "outputId": "0155ddd0-da25-412c-c051-cf965f66bdad"
      },
      "source": [
        "columns = [v.text.replace('\\n', '') for v in rows[0].find_all('th')]\n",
        "columns"
      ],
      "execution_count": 8,
      "outputs": [
        {
          "output_type": "execute_result",
          "data": {
            "text/plain": [
              "['Tên tỉnh', 'Mã tỉnh']"
            ]
          },
          "metadata": {},
          "execution_count": 8
        }
      ]
    },
    {
      "cell_type": "code",
      "metadata": {
        "colab": {
          "base_uri": "https://localhost:8080/",
          "height": 49
        },
        "id": "n5wAIoOt8MWD",
        "outputId": "f8393541-fc45-4851-f285-74fc56d1272f"
      },
      "source": [
        "df = pd.DataFrame(columns=columns)\n",
        "df"
      ],
      "execution_count": 9,
      "outputs": [
        {
          "output_type": "execute_result",
          "data": {
            "text/html": [
              "\n",
              "  <div id=\"df-c075451e-182e-4b32-a259-1f2c7941165f\">\n",
              "    <div class=\"colab-df-container\">\n",
              "      <div>\n",
              "<style scoped>\n",
              "    .dataframe tbody tr th:only-of-type {\n",
              "        vertical-align: middle;\n",
              "    }\n",
              "\n",
              "    .dataframe tbody tr th {\n",
              "        vertical-align: top;\n",
              "    }\n",
              "\n",
              "    .dataframe thead th {\n",
              "        text-align: right;\n",
              "    }\n",
              "</style>\n",
              "<table border=\"1\" class=\"dataframe\">\n",
              "  <thead>\n",
              "    <tr style=\"text-align: right;\">\n",
              "      <th></th>\n",
              "      <th>Tên tỉnh</th>\n",
              "      <th>Mã tỉnh</th>\n",
              "    </tr>\n",
              "  </thead>\n",
              "  <tbody>\n",
              "  </tbody>\n",
              "</table>\n",
              "</div>\n",
              "      <button class=\"colab-df-convert\" onclick=\"convertToInteractive('df-c075451e-182e-4b32-a259-1f2c7941165f')\"\n",
              "              title=\"Convert this dataframe to an interactive table.\"\n",
              "              style=\"display:none;\">\n",
              "        \n",
              "  <svg xmlns=\"http://www.w3.org/2000/svg\" height=\"24px\"viewBox=\"0 0 24 24\"\n",
              "       width=\"24px\">\n",
              "    <path d=\"M0 0h24v24H0V0z\" fill=\"none\"/>\n",
              "    <path d=\"M18.56 5.44l.94 2.06.94-2.06 2.06-.94-2.06-.94-.94-2.06-.94 2.06-2.06.94zm-11 1L8.5 8.5l.94-2.06 2.06-.94-2.06-.94L8.5 2.5l-.94 2.06-2.06.94zm10 10l.94 2.06.94-2.06 2.06-.94-2.06-.94-.94-2.06-.94 2.06-2.06.94z\"/><path d=\"M17.41 7.96l-1.37-1.37c-.4-.4-.92-.59-1.43-.59-.52 0-1.04.2-1.43.59L10.3 9.45l-7.72 7.72c-.78.78-.78 2.05 0 2.83L4 21.41c.39.39.9.59 1.41.59.51 0 1.02-.2 1.41-.59l7.78-7.78 2.81-2.81c.8-.78.8-2.07 0-2.86zM5.41 20L4 18.59l7.72-7.72 1.47 1.35L5.41 20z\"/>\n",
              "  </svg>\n",
              "      </button>\n",
              "      \n",
              "  <style>\n",
              "    .colab-df-container {\n",
              "      display:flex;\n",
              "      flex-wrap:wrap;\n",
              "      gap: 12px;\n",
              "    }\n",
              "\n",
              "    .colab-df-convert {\n",
              "      background-color: #E8F0FE;\n",
              "      border: none;\n",
              "      border-radius: 50%;\n",
              "      cursor: pointer;\n",
              "      display: none;\n",
              "      fill: #1967D2;\n",
              "      height: 32px;\n",
              "      padding: 0 0 0 0;\n",
              "      width: 32px;\n",
              "    }\n",
              "\n",
              "    .colab-df-convert:hover {\n",
              "      background-color: #E2EBFA;\n",
              "      box-shadow: 0px 1px 2px rgba(60, 64, 67, 0.3), 0px 1px 3px 1px rgba(60, 64, 67, 0.15);\n",
              "      fill: #174EA6;\n",
              "    }\n",
              "\n",
              "    [theme=dark] .colab-df-convert {\n",
              "      background-color: #3B4455;\n",
              "      fill: #D2E3FC;\n",
              "    }\n",
              "\n",
              "    [theme=dark] .colab-df-convert:hover {\n",
              "      background-color: #434B5C;\n",
              "      box-shadow: 0px 1px 3px 1px rgba(0, 0, 0, 0.15);\n",
              "      filter: drop-shadow(0px 1px 2px rgba(0, 0, 0, 0.3));\n",
              "      fill: #FFFFFF;\n",
              "    }\n",
              "  </style>\n",
              "\n",
              "      <script>\n",
              "        const buttonEl =\n",
              "          document.querySelector('#df-c075451e-182e-4b32-a259-1f2c7941165f button.colab-df-convert');\n",
              "        buttonEl.style.display =\n",
              "          google.colab.kernel.accessAllowed ? 'block' : 'none';\n",
              "\n",
              "        async function convertToInteractive(key) {\n",
              "          const element = document.querySelector('#df-c075451e-182e-4b32-a259-1f2c7941165f');\n",
              "          const dataTable =\n",
              "            await google.colab.kernel.invokeFunction('convertToInteractive',\n",
              "                                                     [key], {});\n",
              "          if (!dataTable) return;\n",
              "\n",
              "          const docLinkHtml = 'Like what you see? Visit the ' +\n",
              "            '<a target=\"_blank\" href=https://colab.research.google.com/notebooks/data_table.ipynb>data table notebook</a>'\n",
              "            + ' to learn more about interactive tables.';\n",
              "          element.innerHTML = '';\n",
              "          dataTable['output_type'] = 'display_data';\n",
              "          await google.colab.output.renderOutput(dataTable, element);\n",
              "          const docLink = document.createElement('div');\n",
              "          docLink.innerHTML = docLinkHtml;\n",
              "          element.appendChild(docLink);\n",
              "        }\n",
              "      </script>\n",
              "    </div>\n",
              "  </div>\n",
              "  "
            ],
            "text/plain": [
              "Empty DataFrame\n",
              "Columns: [Tên tỉnh, Mã tỉnh]\n",
              "Index: []"
            ]
          },
          "metadata": {},
          "execution_count": 9
        }
      ]
    },
    {
      "cell_type": "code",
      "metadata": {
        "colab": {
          "base_uri": "https://localhost:8080/"
        },
        "id": "-epR9ynk8UQT",
        "outputId": "fa99a0a8-85d4-41b6-adb3-619f7bb7fadb"
      },
      "source": [
        "for j in range(1, 5):\n",
        "  table = tables[j]\n",
        "  rows = table.find_all('tr')\n",
        "  for i in range(1, len(rows)):\n",
        "    tds = rows[i].find_all('td')\n",
        "\n",
        "\n",
        "    values = [tds[0].text.replace('\\n', '').replace('xa0', ''), tds[1].text.replace('\\n', '').replace('xa0', '')]\n",
        "    df = df.append(pd.Series(values, index=columns), ignore_index=True)\n",
        "  print(df)\n",
        "  truong_chuyen = df.to_excel(r'/content/province_code.xlsx', index=False)\n"
      ],
      "execution_count": 10,
      "outputs": [
        {
          "output_type": "stream",
          "name": "stdout",
          "text": [
            "               Tên tỉnh Mã tỉnh\n",
            "0         Mã Tp. Hà Nội      01\n",
            "1      Mã Tp. Hải Phòng      03\n",
            "2      Mã tỉnh Hà Giang      05\n",
            "3      Mã tỉnh Cao Bằng      06\n",
            "4      Mã tỉnh Lai Châu      07\n",
            "5       Mã tỉnh Lào Cai      08\n",
            "6   Mã tỉnh Tuyên Quang      09\n",
            "7      Mã tỉnh Lạng Sơn      10\n",
            "8       Mã tỉnh Bắc Kạn      11\n",
            "9   Mã tỉnh Thái Nguyên      12\n",
            "10      Mã tỉnh Yên Bái      13\n",
            "11       Mã tỉnh Sơn La      14\n",
            "12      Mã tỉnh Phú Thọ      15\n",
            "13    Mã tỉnh Vĩnh Phúc      16\n",
            "14   Mã tỉnh Quảng Ninh      17\n",
            "15    Mã tỉnh Bắc Giang      18\n",
            "16     Mã tỉnh Bắc Ninh      19\n",
            "17    Mã tỉnh Hải Dương      21\n",
            "18     Mã tỉnh Hưng Yên      22\n",
            "19     Mã tỉnh Hòa Bình      23\n",
            "20       Mã tỉnh Hà Nam      24\n",
            "21     Mã tỉnh Nam Định      25\n",
            "22    Mã tỉnh Thái Bình      26\n",
            "23    Mã tỉnh Ninh Bình      27\n",
            "24    Mã tỉnh Điện Biên      62\n",
            "                  Tên tỉnh Mã tỉnh\n",
            "0            Mã Tp. Hà Nội      01\n",
            "1         Mã Tp. Hải Phòng      03\n",
            "2         Mã tỉnh Hà Giang      05\n",
            "3         Mã tỉnh Cao Bằng      06\n",
            "4         Mã tỉnh Lai Châu      07\n",
            "5          Mã tỉnh Lào Cai      08\n",
            "6      Mã tỉnh Tuyên Quang      09\n",
            "7         Mã tỉnh Lạng Sơn      10\n",
            "8          Mã tỉnh Bắc Kạn      11\n",
            "9      Mã tỉnh Thái Nguyên      12\n",
            "10         Mã tỉnh Yên Bái      13\n",
            "11          Mã tỉnh Sơn La      14\n",
            "12         Mã tỉnh Phú Thọ      15\n",
            "13       Mã tỉnh Vĩnh Phúc      16\n",
            "14      Mã tỉnh Quảng Ninh      17\n",
            "15       Mã tỉnh Bắc Giang      18\n",
            "16        Mã tỉnh Bắc Ninh      19\n",
            "17       Mã tỉnh Hải Dương      21\n",
            "18        Mã tỉnh Hưng Yên      22\n",
            "19        Mã tỉnh Hòa Bình      23\n",
            "20          Mã tỉnh Hà Nam      24\n",
            "21        Mã tỉnh Nam Định      25\n",
            "22       Mã tỉnh Thái Bình      26\n",
            "23       Mã tỉnh Ninh Bình      27\n",
            "24       Mã tỉnh Điện Biên      62\n",
            "25       Mã tỉnh Thanh Hóa      28\n",
            "26         Mã tỉnh Nghệ An      29\n",
            "27         Mã tỉnh Hà Tĩnh      30\n",
            "28      Mã tỉnh Quảng Bình      31\n",
            "29       Mã tỉnh Quảng Trị      32\n",
            "30  Mã tỉnh Thừa Thiên Huế      33\n",
            "31          Mã Tp. Đà Nẵng      04\n",
            "32       Mã tỉnh Quảng Nam      34\n",
            "33      Mã tỉnh Quảng Ngãi      35\n",
            "34       Mã tỉnh Bình Định      37\n",
            "35         Mã tỉnh Phú Yên      39\n",
            "36       Mã tỉnh Khánh Hòa      41\n",
            "37      Mã tỉnh Ninh Thuận      45\n",
            "38      Mã tỉnh Bình Thuận      47\n",
            "                  Tên tỉnh Mã tỉnh\n",
            "0            Mã Tp. Hà Nội      01\n",
            "1         Mã Tp. Hải Phòng      03\n",
            "2         Mã tỉnh Hà Giang      05\n",
            "3         Mã tỉnh Cao Bằng      06\n",
            "4         Mã tỉnh Lai Châu      07\n",
            "5          Mã tỉnh Lào Cai      08\n",
            "6      Mã tỉnh Tuyên Quang      09\n",
            "7         Mã tỉnh Lạng Sơn      10\n",
            "8          Mã tỉnh Bắc Kạn      11\n",
            "9      Mã tỉnh Thái Nguyên      12\n",
            "10         Mã tỉnh Yên Bái      13\n",
            "11          Mã tỉnh Sơn La      14\n",
            "12         Mã tỉnh Phú Thọ      15\n",
            "13       Mã tỉnh Vĩnh Phúc      16\n",
            "14      Mã tỉnh Quảng Ninh      17\n",
            "15       Mã tỉnh Bắc Giang      18\n",
            "16        Mã tỉnh Bắc Ninh      19\n",
            "17       Mã tỉnh Hải Dương      21\n",
            "18        Mã tỉnh Hưng Yên      22\n",
            "19        Mã tỉnh Hòa Bình      23\n",
            "20          Mã tỉnh Hà Nam      24\n",
            "21        Mã tỉnh Nam Định      25\n",
            "22       Mã tỉnh Thái Bình      26\n",
            "23       Mã tỉnh Ninh Bình      27\n",
            "24       Mã tỉnh Điện Biên      62\n",
            "25       Mã tỉnh Thanh Hóa      28\n",
            "26         Mã tỉnh Nghệ An      29\n",
            "27         Mã tỉnh Hà Tĩnh      30\n",
            "28      Mã tỉnh Quảng Bình      31\n",
            "29       Mã tỉnh Quảng Trị      32\n",
            "30  Mã tỉnh Thừa Thiên Huế      33\n",
            "31          Mã Tp. Đà Nẵng      04\n",
            "32       Mã tỉnh Quảng Nam      34\n",
            "33      Mã tỉnh Quảng Ngãi      35\n",
            "34       Mã tỉnh Bình Định      37\n",
            "35         Mã tỉnh Phú Yên      39\n",
            "36       Mã tỉnh Khánh Hòa      41\n",
            "37      Mã tỉnh Ninh Thuận      45\n",
            "38      Mã tỉnh Bình Thuận      47\n",
            "39         Mã tỉnh Đắk Lắk      40\n",
            "40        Mã tỉnh Đăk Nông      63\n",
            "41         Mã tỉnh Gia Lai      38\n",
            "42         Mã tỉnh Kon Tum      36\n",
            "43        Mã tỉnh Lâm Đồng      42\n",
            "             Tên tỉnh Mã tỉnh\n",
            "0       Mã Tp. Hà Nội      01\n",
            "1    Mã Tp. Hải Phòng      03\n",
            "2    Mã tỉnh Hà Giang      05\n",
            "3    Mã tỉnh Cao Bằng      06\n",
            "4    Mã tỉnh Lai Châu      07\n",
            "..                ...     ...\n",
            "58   Mã tỉnh Trà Vinh      58\n",
            "59  Mã tỉnh Sóc Trăng      59\n",
            "60   Mã tỉnh Bạc Liêu      60\n",
            "61     Mã tỉnh Cà Mau      61\n",
            "62  Mã tỉnh Hậu Giang      64\n",
            "\n",
            "[63 rows x 2 columns]\n"
          ]
        }
      ]
    }
  ]
}