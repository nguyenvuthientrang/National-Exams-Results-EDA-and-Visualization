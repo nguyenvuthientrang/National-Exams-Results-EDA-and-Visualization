{
 "cells": [
  {
   "cell_type": "markdown",
   "id": "54c2fc23",
   "metadata": {},
   "source": [
    "# IT4010E - Introduction to Cryptography and Security\n",
    "---\n",
    "\n",
    "## Programming Assignment 3\n",
    "---\n",
    "## Class Infomation\n",
    "Student ID: 20190090\n",
    "\n",
    "Student name: Nguyen Van Thanh Tung\n",
    "\n",
    "Lecturer: Tran Vinh Duc\n",
    "\n",
    "---"
   ]
  },
  {
   "cell_type": "code",
   "execution_count": 1,
   "id": "6ce0fd34",
   "metadata": {},
   "outputs": [],
   "source": [
    "from Crypto.Hash import SHA256\n",
    "import sys\n",
    "from os import path"
   ]
  },
  {
   "cell_type": "code",
   "execution_count": 2,
   "id": "bf8a61ae",
   "metadata": {},
   "outputs": [],
   "source": [
    "def hash_function(*blocks):\n",
    "  hash = SHA256.new()\n",
    "  for block in blocks:\n",
    "    hash.update(block)\n",
    "  return hash.digest()"
   ]
  },
  {
   "cell_type": "code",
   "execution_count": 3,
   "id": "2384b853",
   "metadata": {},
   "outputs": [],
   "source": [
    "def hash_video(file_path, block_size):\n",
    "  print(f\"Opening file: {file_path}\")\n",
    "  file = open(file_path, 'rb').read()\n",
    "  file_size = len(file)\n",
    "  print(f\"File size: {file_size} bytes\")\n",
    "  \n",
    "  list_block = [file[i:i+1024] for i in range(0, file_size, block_size)]\n",
    "  first_block, *blocks = reversed(list_block)\n",
    "\n",
    "  h = hash_function(first_block)\n",
    "  for block in blocks:\n",
    "    h = hash_function(block, h)\n",
    "  \n",
    "  return h.hex()"
   ]
  },
  {
   "cell_type": "code",
   "execution_count": 4,
   "id": "71253632",
   "metadata": {},
   "outputs": [
    {
     "name": "stdout",
     "output_type": "stream",
     "text": [
      "Opening file: birthday.mp4\n",
      "File size: 16927313 bytes\n",
      "birthday.mp4's hash string result: 03c08f4ee0b576fe319338139c045c89c3e8e9409633bea29442e21425006ea8\n",
      "birthday.mp4's hash string computed: 03c08f4ee0b576fe319338139c045c89c3e8e9409633bea29442e21425006ea8\n",
      "Check: True\n"
     ]
    }
   ],
   "source": [
    "block_size = 1024 # 1 KB\n",
    "\n",
    "# Hash some videos\n",
    "video_path = 'birthday.mp4'\n",
    "result = \"03c08f4ee0b576fe319338139c045c89c3e8e9409633bea29442e21425006ea8\"\n",
    "video_hash = hash_video(video_path, block_size)\n",
    "print(f\"{video_path}'s hash string result: {result}\")\n",
    "print(f\"{video_path}'s hash string computed: {video_hash}\")\n",
    "print(f\"Check: {video_hash == result}\")\n"
   ]
  }
 ],
 "metadata": {
  "kernelspec": {
   "display_name": "Python 3 (ipykernel)",
   "language": "python",
   "name": "python3"
  },
  "language_info": {
   "codemirror_mode": {
    "name": "ipython",
    "version": 3
   },
   "file_extension": ".py",
   "mimetype": "text/x-python",
   "name": "python",
   "nbconvert_exporter": "python",
   "pygments_lexer": "ipython3",
   "version": "3.10.1"
  }
 },
 "nbformat": 4,
 "nbformat_minor": 5
}
