{
  "nbformat": 4,
  "nbformat_minor": 0,
  "metadata": {
    "colab": {
      "name": "wiki_scrap.ipynb",
      "provenance": [],
      "collapsed_sections": []
    },
    "kernelspec": {
      "name": "python3",
      "display_name": "Python 3"
    },
    "language_info": {
      "name": "python"
    }
  },
  "cells": [
    {
      "cell_type": "markdown",
      "source": [
        "Get the numbers of specialized schools in each province"
      ],
      "metadata": {
        "id": "tu_kgwdYiIWI"
      }
    },
    {
      "cell_type": "code",
      "metadata": {
        "id": "hQydI9271kZ2"
      },
      "source": [
        "from bs4 import BeautifulSoup\n",
        "import requests\n",
        "import pandas as pd"
      ],
      "execution_count": null,
      "outputs": []
    },
    {
      "cell_type": "code",
      "metadata": {
        "id": "2kNTo4XY1-tw"
      },
      "source": [
        "url = 'https://vi.wikipedia.org/wiki/Danh_s%C3%A1ch_tr%C6%B0%E1%BB%9Dng_trung_h%E1%BB%8Dc_ph%E1%BB%95_th%C3%B4ng_chuy%C3%AAn_t%E1%BA%A1i_Vi%E1%BB%87t_Nam'"
      ],
      "execution_count": null,
      "outputs": []
    },
    {
      "cell_type": "code",
      "metadata": {
        "id": "Y44SpTU93DZh"
      },
      "source": [
        "response = requests.get(url)\n",
        "soup = BeautifulSoup(response.text, 'html.parser')"
      ],
      "execution_count": null,
      "outputs": []
    },
    {
      "cell_type": "code",
      "metadata": {
        "id": "67Kn92DF3R1e"
      },
      "source": [
        "table = soup.find_all('table', {'class':'wikitable sortable'})\n",
        "table = table[0].tbody"
      ],
      "execution_count": null,
      "outputs": []
    },
    {
      "cell_type": "code",
      "metadata": {
        "id": "omHFgcpFOKkN"
      },
      "source": [
        "table = soup.find('table', {'class':'table table-bordered'})\n",
        "table"
      ],
      "execution_count": null,
      "outputs": []
    },
    {
      "cell_type": "code",
      "metadata": {
        "id": "4HnquHZr3q_C"
      },
      "source": [
        "rows = table.find_all('tr')"
      ],
      "execution_count": null,
      "outputs": []
    },
    {
      "cell_type": "code",
      "metadata": {
        "id": "h99wl1cZPjIW",
        "colab": {
          "base_uri": "https://localhost:8080/"
        },
        "outputId": "732afd4a-b383-40c5-cd9c-e0c18779dcea"
      },
      "source": [
        "rows"
      ],
      "execution_count": null,
      "outputs": [
        {
          "output_type": "execute_result",
          "data": {
            "text/plain": [
              "[<tr>\n",
              " <th>Tên trường</th>\n",
              " <th>Tỉnh/Thành phố</th>\n",
              " <th>Quận/Huyện/Thành phố/Thị xã\n",
              " </th></tr>, <tr>\n",
              " <td><a href=\"/wiki/Tr%C6%B0%E1%BB%9Dng_Trung_h%E1%BB%8Dc_ph%E1%BB%95_th%C3%B4ng_Chuy%C3%AAn_%C4%90%E1%BA%A1i_h%E1%BB%8Dc_S%C6%B0_ph%E1%BA%A1m_H%C3%A0_N%E1%BB%99i\" title=\"Trường Trung học phổ thông Chuyên Đại học Sư phạm Hà Nội\">Trường Trung học phổ thông chuyên Đại học Sư phạm Hà Nội</a></td>\n",
              " <td rowspan=\"4\"><a href=\"/wiki/H%C3%A0_N%E1%BB%99i\" title=\"Hà Nội\">Hà Nội</a></td>\n",
              " <td><a class=\"mw-redirect\" href=\"/wiki/C%E1%BA%A7u_Gi%E1%BA%A5y_(qu%E1%BA%ADn)\" title=\"Cầu Giấy (quận)\">Quận Cầu Giấy</a>\n",
              " </td></tr>, <tr>\n",
              " <td><a class=\"mw-redirect\" href=\"/wiki/Tr%C6%B0%E1%BB%9Dng_Trung_h%E1%BB%8Dc_ph%E1%BB%95_th%C3%B4ng_chuy%C3%AAn_Khoa_h%E1%BB%8Dc_T%E1%BB%B1_nhi%C3%AAn,_%C4%90%E1%BA%A1i_h%E1%BB%8Dc_Qu%E1%BB%91c_gia_H%C3%A0_N%E1%BB%99i\" title=\"Trường Trung học phổ thông chuyên Khoa học Tự nhiên, Đại học Quốc gia Hà Nội\">Trường Trung học phổ thông chuyên Khoa học Tự nhiên, Đại học Quốc gia Hà Nội</a></td>\n",
              " <td><a href=\"/wiki/Thanh_Xu%C3%A2n\" title=\"Thanh Xuân\">Quận Thanh Xuân</a>\n",
              " </td></tr>, <tr>\n",
              " <td><a class=\"mw-redirect\" href=\"/wiki/Tr%C6%B0%E1%BB%9Dng_Trung_h%E1%BB%8Dc_ph%E1%BB%95_th%C3%B4ng_chuy%C3%AAn_Khoa_h%E1%BB%8Dc_X%C3%A3_H%E1%BB%99i_v%C3%A0_Nh%C3%A2n_v%C4%83n,_%C4%90%E1%BA%A1i_h%E1%BB%8Dc_Qu%E1%BB%91c_gia_H%C3%A0_N%E1%BB%99i\" title=\"Trường Trung học phổ thông chuyên Khoa học Xã Hội và Nhân văn, Đại học Quốc gia Hà Nội\">Trường Trung học phổ thông chuyên Khoa học Xã Hội và Nhân văn, Đại học Quốc gia Hà Nội</a></td>\n",
              " <td><a href=\"/wiki/Thanh_Xu%C3%A2n\" title=\"Thanh Xuân\">Quận Thanh Xuân</a>\n",
              " </td></tr>, <tr>\n",
              " <td><a class=\"mw-redirect\" href=\"/wiki/Tr%C6%B0%E1%BB%9Dng_Trung_h%E1%BB%8Dc_ph%E1%BB%95_th%C3%B4ng_chuy%C3%AAn_ngo%E1%BA%A1i_ng%E1%BB%AF,_%C4%90%E1%BA%A1i_h%E1%BB%8Dc_Qu%E1%BB%91c_gia_H%C3%A0_N%E1%BB%99i\" title=\"Trường Trung học phổ thông chuyên ngoại ngữ, Đại học Quốc gia Hà Nội\">Trường Trung học phổ thông chuyên Ngoại ngữ, Đại học Quốc gia Hà Nội</a></td>\n",
              " <td><a class=\"mw-redirect\" href=\"/wiki/C%E1%BA%A7u_Gi%E1%BA%A5y_(qu%E1%BA%ADn)\" title=\"Cầu Giấy (quận)\">Quận Cầu Giấy</a>\n",
              " </td></tr>, <tr>\n",
              " <td><a href=\"/wiki/Tr%C6%B0%E1%BB%9Dng_Trung_h%E1%BB%8Dc_ph%E1%BB%95_th%C3%B4ng_Chuy%C3%AAn_%C4%90%E1%BA%A1i_h%E1%BB%8Dc_Vinh\" title=\"Trường Trung học phổ thông Chuyên Đại học Vinh\">Trường Trung học phổ thông chuyên Đại học Vinh</a></td>\n",
              " <td><a href=\"/wiki/Ngh%E1%BB%87_An\" title=\"Nghệ An\">Nghệ An</a></td>\n",
              " <td><a href=\"/wiki/Vinh\" title=\"Vinh\">Thành phố Vinh</a>\n",
              " </td></tr>, <tr>\n",
              " <td>Trường Trung học phổ thông chuyên <a class=\"mw-redirect\" href=\"/wiki/Tr%C6%B0%E1%BB%9Dng_%C4%90%E1%BA%A1i_h%E1%BB%8Dc_Khoa_h%E1%BB%8Dc_Hu%E1%BA%BF\" title=\"Trường Đại học Khoa học Huế\">Đại học Khoa học</a>, <a href=\"/wiki/%C4%90%E1%BA%A1i_h%E1%BB%8Dc_Hu%E1%BA%BF\" title=\"Đại học Huế\">Đại học Huế</a></td>\n",
              " <td><a href=\"/wiki/Th%E1%BB%ABa_Thi%C3%AAn_Hu%E1%BA%BF\" title=\"Thừa Thiên Huế\">Thừa Thiên – Huế</a></td>\n",
              " <td><a href=\"/wiki/Hu%E1%BA%BF\" title=\"Huế\">Thành phố Huế</a>\n",
              " </td></tr>, <tr>\n",
              " <td><a href=\"/wiki/Tr%C6%B0%E1%BB%9Dng_Ph%E1%BB%95_th%C3%B4ng_N%C4%83ng_khi%E1%BA%BFu,_%C4%90%E1%BA%A1i_h%E1%BB%8Dc_Qu%E1%BB%91c_gia_Th%C3%A0nh_ph%E1%BB%91_H%E1%BB%93_Ch%C3%AD_Minh\" title=\"Trường Phổ thông Năng khiếu, Đại học Quốc gia Thành phố Hồ Chí Minh\">Trường Phổ thông Năng khiếu, Đại học Quốc gia Thành phố Hồ Chí Minh</a></td>\n",
              " <td rowspan=\"2\"><a href=\"/wiki/Th%C3%A0nh_ph%E1%BB%91_H%E1%BB%93_Ch%C3%AD_Minh\" title=\"Thành phố Hồ Chí Minh\">Thành phố Hồ Chí Minh</a></td>\n",
              " <td rowspan=\"2\"><a class=\"mw-redirect\" href=\"/wiki/Qu%E1%BA%ADn_5,_Th%C3%A0nh_ph%E1%BB%91_H%E1%BB%93_Ch%C3%AD_Minh\" title=\"Quận 5, Thành phố Hồ Chí Minh\">Quận 5</a>\n",
              " </td></tr>, <tr>\n",
              " <td>Trường Trung học Thực hành, <a href=\"/wiki/Tr%C6%B0%E1%BB%9Dng_%C4%90%E1%BA%A1i_h%E1%BB%8Dc_S%C6%B0_ph%E1%BA%A1m_Th%C3%A0nh_ph%E1%BB%91_H%E1%BB%93_Ch%C3%AD_Minh\" title=\"Trường Đại học Sư phạm Thành phố Hồ Chí Minh\">Đại học Sư phạm Thành phố Hồ Chí Minh</a>\n",
              " </td></tr>, <tr>\n",
              " <td>Trường Trung học phổ thông Năng khiếu, <a href=\"/wiki/Tr%C6%B0%E1%BB%9Dng_%C4%90%E1%BA%A1i_h%E1%BB%8Dc_T%C3%A2n_T%E1%BA%A1o\" title=\"Trường Đại học Tân Tạo\">Đại học Tân Tạo</a></td>\n",
              " <td><a href=\"/wiki/Long_An\" title=\"Long An\">Long An</a></td>\n",
              " <td><a href=\"/wiki/%C4%90%E1%BB%A9c_H%C3%B2a\" title=\"Đức Hòa\">Huyện Đức Hòa</a>\n",
              " </td></tr>]"
            ]
          },
          "metadata": {},
          "execution_count": 15
        }
      ]
    },
    {
      "cell_type": "code",
      "metadata": {
        "colab": {
          "base_uri": "https://localhost:8080/"
        },
        "id": "DI71RyUg7-IX",
        "outputId": "dc5220db-948f-41d2-f3e6-5a6320f1572e"
      },
      "source": [
        "columns = [v.text.replace('\\n', '') for v in rows[0].find_all('th')]\n",
        "columns"
      ],
      "execution_count": null,
      "outputs": [
        {
          "output_type": "execute_result",
          "data": {
            "text/plain": [
              "['Tên trường', 'Tỉnh/Thành phố', 'Quận/Huyện/Thành phố/Thị xã']"
            ]
          },
          "metadata": {},
          "execution_count": 16
        }
      ]
    },
    {
      "cell_type": "code",
      "metadata": {
        "colab": {
          "base_uri": "https://localhost:8080/",
          "height": 49
        },
        "id": "n5wAIoOt8MWD",
        "outputId": "6ff6bb7a-b7e3-42b6-f082-026cce69e6cd"
      },
      "source": [
        "df = pd.DataFrame(columns=columns)\n",
        "df"
      ],
      "execution_count": null,
      "outputs": [
        {
          "output_type": "execute_result",
          "data": {
            "text/html": [
              "\n",
              "  <div id=\"df-5e279cb5-b5c3-4e34-bbf4-36c441360640\">\n",
              "    <div class=\"colab-df-container\">\n",
              "      <div>\n",
              "<style scoped>\n",
              "    .dataframe tbody tr th:only-of-type {\n",
              "        vertical-align: middle;\n",
              "    }\n",
              "\n",
              "    .dataframe tbody tr th {\n",
              "        vertical-align: top;\n",
              "    }\n",
              "\n",
              "    .dataframe thead th {\n",
              "        text-align: right;\n",
              "    }\n",
              "</style>\n",
              "<table border=\"1\" class=\"dataframe\">\n",
              "  <thead>\n",
              "    <tr style=\"text-align: right;\">\n",
              "      <th></th>\n",
              "      <th>Tên trường</th>\n",
              "      <th>Tỉnh/Thành phố</th>\n",
              "      <th>Quận/Huyện/Thành phố/Thị xã</th>\n",
              "    </tr>\n",
              "  </thead>\n",
              "  <tbody>\n",
              "  </tbody>\n",
              "</table>\n",
              "</div>\n",
              "      <button class=\"colab-df-convert\" onclick=\"convertToInteractive('df-5e279cb5-b5c3-4e34-bbf4-36c441360640')\"\n",
              "              title=\"Convert this dataframe to an interactive table.\"\n",
              "              style=\"display:none;\">\n",
              "        \n",
              "  <svg xmlns=\"http://www.w3.org/2000/svg\" height=\"24px\"viewBox=\"0 0 24 24\"\n",
              "       width=\"24px\">\n",
              "    <path d=\"M0 0h24v24H0V0z\" fill=\"none\"/>\n",
              "    <path d=\"M18.56 5.44l.94 2.06.94-2.06 2.06-.94-2.06-.94-.94-2.06-.94 2.06-2.06.94zm-11 1L8.5 8.5l.94-2.06 2.06-.94-2.06-.94L8.5 2.5l-.94 2.06-2.06.94zm10 10l.94 2.06.94-2.06 2.06-.94-2.06-.94-.94-2.06-.94 2.06-2.06.94z\"/><path d=\"M17.41 7.96l-1.37-1.37c-.4-.4-.92-.59-1.43-.59-.52 0-1.04.2-1.43.59L10.3 9.45l-7.72 7.72c-.78.78-.78 2.05 0 2.83L4 21.41c.39.39.9.59 1.41.59.51 0 1.02-.2 1.41-.59l7.78-7.78 2.81-2.81c.8-.78.8-2.07 0-2.86zM5.41 20L4 18.59l7.72-7.72 1.47 1.35L5.41 20z\"/>\n",
              "  </svg>\n",
              "      </button>\n",
              "      \n",
              "  <style>\n",
              "    .colab-df-container {\n",
              "      display:flex;\n",
              "      flex-wrap:wrap;\n",
              "      gap: 12px;\n",
              "    }\n",
              "\n",
              "    .colab-df-convert {\n",
              "      background-color: #E8F0FE;\n",
              "      border: none;\n",
              "      border-radius: 50%;\n",
              "      cursor: pointer;\n",
              "      display: none;\n",
              "      fill: #1967D2;\n",
              "      height: 32px;\n",
              "      padding: 0 0 0 0;\n",
              "      width: 32px;\n",
              "    }\n",
              "\n",
              "    .colab-df-convert:hover {\n",
              "      background-color: #E2EBFA;\n",
              "      box-shadow: 0px 1px 2px rgba(60, 64, 67, 0.3), 0px 1px 3px 1px rgba(60, 64, 67, 0.15);\n",
              "      fill: #174EA6;\n",
              "    }\n",
              "\n",
              "    [theme=dark] .colab-df-convert {\n",
              "      background-color: #3B4455;\n",
              "      fill: #D2E3FC;\n",
              "    }\n",
              "\n",
              "    [theme=dark] .colab-df-convert:hover {\n",
              "      background-color: #434B5C;\n",
              "      box-shadow: 0px 1px 3px 1px rgba(0, 0, 0, 0.15);\n",
              "      filter: drop-shadow(0px 1px 2px rgba(0, 0, 0, 0.3));\n",
              "      fill: #FFFFFF;\n",
              "    }\n",
              "  </style>\n",
              "\n",
              "      <script>\n",
              "        const buttonEl =\n",
              "          document.querySelector('#df-5e279cb5-b5c3-4e34-bbf4-36c441360640 button.colab-df-convert');\n",
              "        buttonEl.style.display =\n",
              "          google.colab.kernel.accessAllowed ? 'block' : 'none';\n",
              "\n",
              "        async function convertToInteractive(key) {\n",
              "          const element = document.querySelector('#df-5e279cb5-b5c3-4e34-bbf4-36c441360640');\n",
              "          const dataTable =\n",
              "            await google.colab.kernel.invokeFunction('convertToInteractive',\n",
              "                                                     [key], {});\n",
              "          if (!dataTable) return;\n",
              "\n",
              "          const docLinkHtml = 'Like what you see? Visit the ' +\n",
              "            '<a target=\"_blank\" href=https://colab.research.google.com/notebooks/data_table.ipynb>data table notebook</a>'\n",
              "            + ' to learn more about interactive tables.';\n",
              "          element.innerHTML = '';\n",
              "          dataTable['output_type'] = 'display_data';\n",
              "          await google.colab.output.renderOutput(dataTable, element);\n",
              "          const docLink = document.createElement('div');\n",
              "          docLink.innerHTML = docLinkHtml;\n",
              "          element.appendChild(docLink);\n",
              "        }\n",
              "      </script>\n",
              "    </div>\n",
              "  </div>\n",
              "  "
            ],
            "text/plain": [
              "Empty DataFrame\n",
              "Columns: [Tên trường, Tỉnh/Thành phố, Quận/Huyện/Thành phố/Thị xã]\n",
              "Index: []"
            ]
          },
          "metadata": {},
          "execution_count": 17
        }
      ]
    },
    {
      "cell_type": "code",
      "metadata": {
        "colab": {
          "base_uri": "https://localhost:8080/"
        },
        "id": "-epR9ynk8UQT",
        "outputId": "90515965-07ee-444e-af85-0b9d3691182d"
      },
      "source": [
        "for i in range(1, len(rows)):\n",
        "  tds = rows[i].find_all('td')\n",
        "\n",
        "  if len(tds) == 2:\n",
        "    values = [tds[0].text.replace('\\n', '').replace('xa0', ''), ' ', tds[1].text.replace('\\n', '').replace('xa0', '')]\n",
        "  \n",
        "  elif len(tds) == 1:\n",
        "    values = [tds[0].text.replace('\\n', '').replace('xa0', ''), ' ', ' ']\n",
        "\n",
        "  else:\n",
        "    values = [td.text.replace('\\n', '').replace('xa0', '') for td in tds]\n",
        "\n",
        "  \n",
        "  df = df.append(pd.Series(values, index=columns), ignore_index=True)\n",
        "\n",
        "print(df)\n",
        "truong_chuyen = df.to_excel(r'/content/drive/MyDrive/data_ds/truong_chuyen_dh.xlsx', index=False)\n"
      ],
      "execution_count": null,
      "outputs": [
        {
          "output_type": "stream",
          "name": "stdout",
          "text": [
            "                                           Tên trường  ... Quận/Huyện/Thành phố/Thị xã\n",
            "0   Trường Trung học phổ thông chuyên Đại học Sư p...  ...               Quận Cầu Giấy\n",
            "1   Trường Trung học phổ thông chuyên Khoa học Tự ...  ...             Quận Thanh Xuân\n",
            "2   Trường Trung học phổ thông chuyên Khoa học Xã ...  ...             Quận Thanh Xuân\n",
            "3   Trường Trung học phổ thông chuyên Ngoại ngữ, Đ...  ...               Quận Cầu Giấy\n",
            "4      Trường Trung học phổ thông chuyên Đại học Vinh  ...              Thành phố Vinh\n",
            "5   Trường Trung học phổ thông chuyên Đại học Khoa...  ...               Thành phố Huế\n",
            "6   Trường Phổ thông Năng khiếu, Đại học Quốc gia ...  ...                      Quận 5\n",
            "7   Trường Trung học Thực hành, Đại học Sư phạm Th...  ...                            \n",
            "8   Trường Trung học phổ thông Năng khiếu, Đại học...  ...               Huyện Đức Hòa\n",
            "9   Trường Trung học phổ thông chuyên Đại học Sư p...  ...               Quận Cầu Giấy\n",
            "10  Trường Trung học phổ thông chuyên Khoa học Tự ...  ...             Quận Thanh Xuân\n",
            "11  Trường Trung học phổ thông chuyên Khoa học Xã ...  ...             Quận Thanh Xuân\n",
            "12  Trường Trung học phổ thông chuyên Ngoại ngữ, Đ...  ...               Quận Cầu Giấy\n",
            "13     Trường Trung học phổ thông chuyên Đại học Vinh  ...              Thành phố Vinh\n",
            "14  Trường Trung học phổ thông chuyên Đại học Khoa...  ...               Thành phố Huế\n",
            "15  Trường Phổ thông Năng khiếu, Đại học Quốc gia ...  ...                      Quận 5\n",
            "16  Trường Trung học Thực hành, Đại học Sư phạm Th...  ...                            \n",
            "17  Trường Trung học phổ thông Năng khiếu, Đại học...  ...               Huyện Đức Hòa\n",
            "\n",
            "[18 rows x 3 columns]\n"
          ]
        }
      ]
    }
  ]
}